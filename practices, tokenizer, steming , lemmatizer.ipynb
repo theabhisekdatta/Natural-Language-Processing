{
 "cells": [
  {
   "cell_type": "code",
   "execution_count": 1,
   "id": "b435ef84",
   "metadata": {},
   "outputs": [],
   "source": [
    "import nltk"
   ]
  },
  {
   "cell_type": "code",
   "execution_count": 2,
   "id": "a00e21a4",
   "metadata": {},
   "outputs": [
    {
     "name": "stdout",
     "output_type": "stream",
     "text": [
      "showing info https://raw.githubusercontent.com/nltk/nltk_data/gh-pages/index.xml\n"
     ]
    },
    {
     "data": {
      "text/plain": [
       "True"
      ]
     },
     "execution_count": 2,
     "metadata": {},
     "output_type": "execute_result"
    }
   ],
   "source": [
    "nltk.download()"
   ]
  },
  {
   "cell_type": "code",
   "execution_count": 27,
   "id": "574bcc4d",
   "metadata": {},
   "outputs": [],
   "source": [
    "paragragh=\"Canon introduced their Inkjet printer using bubble-jet technology in 1985, one year after Hewlett-Packard. In 1987, Canon introduced their Canon Electro-Optical System (EOS),named after the goddess of the dawn, along with the Canon EOS 650 autofocus SLR camera. Also in 1987, the Canon Foundation was established. In 1988, Canon introduced 'Kyosei philosophy'.[10] The EOS 1 Flagship Professional SLR line was launched in 1989.[11] In the same year the EOS RT, the world's first AF SLR with a fixed, semi-transparent pellicle mirror, was unveiled.\""
   ]
  },
  {
   "cell_type": "code",
   "execution_count": 5,
   "id": "d97e1f36",
   "metadata": {},
   "outputs": [],
   "source": [
    "# tokenizing sentences"
   ]
  },
  {
   "cell_type": "code",
   "execution_count": 4,
   "id": "f44f589d",
   "metadata": {},
   "outputs": [],
   "source": [
    "sentences=nltk.sent_tokenize(paragragh)"
   ]
  },
  {
   "cell_type": "code",
   "execution_count": 6,
   "id": "dcdd79e8",
   "metadata": {},
   "outputs": [
    {
     "data": {
      "text/plain": [
       "['Canon introduced their Inkjet printer using bubble-jet technology in 1985, one year after Hewlett-Packard.',\n",
       " 'In 1987, Canon introduced their Canon Electro-Optical System (EOS),named after the goddess of the dawn, along with the Canon EOS 650 autofocus SLR camera.',\n",
       " 'Also in 1987, the Canon Foundation was established.',\n",
       " \"In 1988, Canon introduced 'Kyosei philosophy'.\",\n",
       " '[10] The EOS 1 Flagship Professional SLR line was launched in 1989.',\n",
       " \"[11] In the same year the EOS RT, the world's first AF SLR with a fixed, semi-transparent pellicle mirror, was unveiled.\"]"
      ]
     },
     "execution_count": 6,
     "metadata": {},
     "output_type": "execute_result"
    }
   ],
   "source": [
    "sentences"
   ]
  },
  {
   "cell_type": "code",
   "execution_count": 7,
   "id": "92c764c0",
   "metadata": {},
   "outputs": [],
   "source": [
    "#tokenizing words\n",
    "words=nltk.word_tokenize(paragragh)"
   ]
  },
  {
   "cell_type": "code",
   "execution_count": 8,
   "id": "f21a3421",
   "metadata": {},
   "outputs": [
    {
     "data": {
      "text/plain": [
       "['Canon',\n",
       " 'introduced',\n",
       " 'their',\n",
       " 'Inkjet',\n",
       " 'printer',\n",
       " 'using',\n",
       " 'bubble-jet',\n",
       " 'technology',\n",
       " 'in',\n",
       " '1985',\n",
       " ',',\n",
       " 'one',\n",
       " 'year',\n",
       " 'after',\n",
       " 'Hewlett-Packard',\n",
       " '.',\n",
       " 'In',\n",
       " '1987',\n",
       " ',',\n",
       " 'Canon',\n",
       " 'introduced',\n",
       " 'their',\n",
       " 'Canon',\n",
       " 'Electro-Optical',\n",
       " 'System',\n",
       " '(',\n",
       " 'EOS',\n",
       " ')',\n",
       " ',',\n",
       " 'named',\n",
       " 'after',\n",
       " 'the',\n",
       " 'goddess',\n",
       " 'of',\n",
       " 'the',\n",
       " 'dawn',\n",
       " ',',\n",
       " 'along',\n",
       " 'with',\n",
       " 'the',\n",
       " 'Canon',\n",
       " 'EOS',\n",
       " '650',\n",
       " 'autofocus',\n",
       " 'SLR',\n",
       " 'camera',\n",
       " '.',\n",
       " 'Also',\n",
       " 'in',\n",
       " '1987',\n",
       " ',',\n",
       " 'the',\n",
       " 'Canon',\n",
       " 'Foundation',\n",
       " 'was',\n",
       " 'established',\n",
       " '.',\n",
       " 'In',\n",
       " '1988',\n",
       " ',',\n",
       " 'Canon',\n",
       " 'introduced',\n",
       " \"'Kyosei\",\n",
       " 'philosophy',\n",
       " \"'\",\n",
       " '.',\n",
       " '[',\n",
       " '10',\n",
       " ']',\n",
       " 'The',\n",
       " 'EOS',\n",
       " '1',\n",
       " 'Flagship',\n",
       " 'Professional',\n",
       " 'SLR',\n",
       " 'line',\n",
       " 'was',\n",
       " 'launched',\n",
       " 'in',\n",
       " '1989',\n",
       " '.',\n",
       " '[',\n",
       " '11',\n",
       " ']',\n",
       " 'In',\n",
       " 'the',\n",
       " 'same',\n",
       " 'year',\n",
       " 'the',\n",
       " 'EOS',\n",
       " 'RT',\n",
       " ',',\n",
       " 'the',\n",
       " 'world',\n",
       " \"'s\",\n",
       " 'first',\n",
       " 'AF',\n",
       " 'SLR',\n",
       " 'with',\n",
       " 'a',\n",
       " 'fixed',\n",
       " ',',\n",
       " 'semi-transparent',\n",
       " 'pellicle',\n",
       " 'mirror',\n",
       " ',',\n",
       " 'was',\n",
       " 'unveiled',\n",
       " '.']"
      ]
     },
     "execution_count": 8,
     "metadata": {},
     "output_type": "execute_result"
    }
   ],
   "source": [
    "words"
   ]
  },
  {
   "cell_type": "code",
   "execution_count": 10,
   "id": "bece2ba4",
   "metadata": {},
   "outputs": [
    {
     "data": {
      "text/plain": [
       "109"
      ]
     },
     "execution_count": 10,
     "metadata": {},
     "output_type": "execute_result"
    }
   ],
   "source": [
    "len(words)"
   ]
  },
  {
   "cell_type": "code",
   "execution_count": 11,
   "id": "e77b83b3",
   "metadata": {},
   "outputs": [],
   "source": [
    "#stemming \n"
   ]
  },
  {
   "cell_type": "code",
   "execution_count": 12,
   "id": "8e9cd2ed",
   "metadata": {},
   "outputs": [],
   "source": [
    "from nltk.stem import PorterStemmer\n",
    "from nltk.corpus import stopwords"
   ]
  },
  {
   "cell_type": "code",
   "execution_count": 13,
   "id": "c966dc17",
   "metadata": {},
   "outputs": [],
   "source": [
    "sent=nltk.sent_tokenize(paragragh)"
   ]
  },
  {
   "cell_type": "code",
   "execution_count": 14,
   "id": "9ff01c45",
   "metadata": {},
   "outputs": [],
   "source": [
    "stemmer=PorterStemmer()"
   ]
  },
  {
   "cell_type": "code",
   "execution_count": 15,
   "id": "ce434a37",
   "metadata": {},
   "outputs": [],
   "source": [
    "#stemming\n",
    "for i in range(len(sent)):\n",
    "    words=nltk.word_tokenize(sent[i]) #word tokenz\n",
    "    words=[stemmer.stem(word) for word in words if word not in set(stopwords.words(\"english\")) ]\n",
    "    sent[i]= \" \".join(words)"
   ]
  },
  {
   "cell_type": "code",
   "execution_count": 16,
   "id": "515ca37b",
   "metadata": {},
   "outputs": [
    {
     "data": {
      "text/plain": [
       "['canon introduc inkjet printer use bubble-jet technolog 1985 , one year hewlett-packard .',\n",
       " 'in 1987 , canon introduc canon electro-opt system ( eo ) , name goddess dawn , along canon eo 650 autofocu slr camera .',\n",
       " 'also 1987 , canon foundat establish .',\n",
       " \"in 1988 , canon introduc 'kyosei philosophi ' .\",\n",
       " '[ 10 ] the eo 1 flagship profession slr line launch 1989 .',\n",
       " \"[ 11 ] in year eo rt , world 's first af slr fix , semi-transpar pellicl mirror , unveil .\"]"
      ]
     },
     "execution_count": 16,
     "metadata": {},
     "output_type": "execute_result"
    }
   ],
   "source": [
    "sent"
   ]
  },
  {
   "cell_type": "code",
   "execution_count": 17,
   "id": "9be33f41",
   "metadata": {},
   "outputs": [],
   "source": [
    "# lemmatization\n",
    "from nltk.stem import WordNetLemmatizer"
   ]
  },
  {
   "cell_type": "code",
   "execution_count": 18,
   "id": "9b4ed72b",
   "metadata": {},
   "outputs": [],
   "source": [
    "lemma=WordNetLemmatizer()"
   ]
  },
  {
   "cell_type": "code",
   "execution_count": 28,
   "id": "667d52d2",
   "metadata": {},
   "outputs": [],
   "source": [
    "sent_1=nltk.sent_tokenize(paragragh)"
   ]
  },
  {
   "cell_type": "code",
   "execution_count": 31,
   "id": "58c111cb",
   "metadata": {},
   "outputs": [],
   "source": [
    "for i in range(len(sent_1)):\n",
    "    words=nltk.word_tokenize(sent_1[i])\n",
    "    words=[lemma.lemmatize(word) for word in words\n",
    "          if word not in set(stopwords.words(\"english\"))]\n",
    "    sent_1[i]= \" \".join(words)"
   ]
  },
  {
   "cell_type": "code",
   "execution_count": 32,
   "id": "951178b4",
   "metadata": {},
   "outputs": [
    {
     "data": {
      "text/plain": [
       "['Canon introduced Inkjet printer using bubble-jet technology 1985 , one year Hewlett-Packard .',\n",
       " 'In 1987 , Canon introduced Canon Electro-Optical System ( EOS ) , named goddess dawn , along Canon EOS 650 autofocus SLR camera .',\n",
       " 'Also 1987 , Canon Foundation established .',\n",
       " \"In 1988 , Canon introduced 'Kyosei philosophy ' .\",\n",
       " '[ 10 ] The EOS 1 Flagship Professional SLR line launched 1989 .',\n",
       " \"[ 11 ] In year EOS RT , world 's first AF SLR fixed , semi-transparent pellicle mirror , unveiled .\"]"
      ]
     },
     "execution_count": 32,
     "metadata": {},
     "output_type": "execute_result"
    }
   ],
   "source": [
    "sent_1"
   ]
  },
  {
   "cell_type": "code",
   "execution_count": null,
   "id": "eb59a911",
   "metadata": {},
   "outputs": [],
   "source": []
  }
 ],
 "metadata": {
  "kernelspec": {
   "display_name": "Python 3 (ipykernel)",
   "language": "python",
   "name": "python3"
  },
  "language_info": {
   "codemirror_mode": {
    "name": "ipython",
    "version": 3
   },
   "file_extension": ".py",
   "mimetype": "text/x-python",
   "name": "python",
   "nbconvert_exporter": "python",
   "pygments_lexer": "ipython3",
   "version": "3.9.12"
  }
 },
 "nbformat": 4,
 "nbformat_minor": 5
}
