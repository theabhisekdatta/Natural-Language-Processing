{
 "cells": [
  {
   "cell_type": "code",
   "execution_count": 1,
   "id": "0e05903c",
   "metadata": {},
   "outputs": [],
   "source": [
    "import nltk"
   ]
  },
  {
   "cell_type": "code",
   "execution_count": 2,
   "id": "4dcad16a",
   "metadata": {},
   "outputs": [
    {
     "name": "stdout",
     "output_type": "stream",
     "text": [
      "showing info https://raw.githubusercontent.com/nltk/nltk_data/gh-pages/index.xml\n"
     ]
    },
    {
     "data": {
      "text/plain": [
       "True"
      ]
     },
     "execution_count": 2,
     "metadata": {},
     "output_type": "execute_result"
    }
   ],
   "source": [
    "nltk.download()"
   ]
  },
  {
   "cell_type": "code",
   "execution_count": 3,
   "id": "987a46c1",
   "metadata": {},
   "outputs": [],
   "source": [
    "paragragh=\"Canon introduced their Inkjet printer using bubble-jet technology in 1985, one year after Hewlett-Packard. In 1987, Canon introduced their Canon Electro-Optical System (EOS),named after the goddess of the dawn, along with the Canon EOS 650 autofocus SLR camera. Also in 1987, the Canon Foundation was established. In 1988, Canon introduced 'Kyosei philosophy'.[10] The EOS 1 Flagship Professional SLR line was launched in 1989.[11] In the same year the EOS RT, the world's first AF SLR with a fixed, semi-transparent pellicle mirror, was unveiled.\""
   ]
  },
  {
   "cell_type": "code",
   "execution_count": 5,
   "id": "29e9cf10",
   "metadata": {},
   "outputs": [],
   "source": [
    "# tokenizing sentences"
   ]
  },
  {
   "cell_type": "code",
   "execution_count": 4,
   "id": "18f6ef7d",
   "metadata": {},
   "outputs": [],
   "source": [
    "sentences=nltk.sent_tokenize(paragragh)"
   ]
  },
  {
   "cell_type": "code",
   "execution_count": 6,
   "id": "a5d76a9e",
   "metadata": {},
   "outputs": [
    {
     "data": {
      "text/plain": [
       "['Canon introduced their Inkjet printer using bubble-jet technology in 1985, one year after Hewlett-Packard.',\n",
       " 'In 1987, Canon introduced their Canon Electro-Optical System (EOS),named after the goddess of the dawn, along with the Canon EOS 650 autofocus SLR camera.',\n",
       " 'Also in 1987, the Canon Foundation was established.',\n",
       " \"In 1988, Canon introduced 'Kyosei philosophy'.\",\n",
       " '[10] The EOS 1 Flagship Professional SLR line was launched in 1989.',\n",
       " \"[11] In the same year the EOS RT, the world's first AF SLR with a fixed, semi-transparent pellicle mirror, was unveiled.\"]"
      ]
     },
     "execution_count": 6,
     "metadata": {},
     "output_type": "execute_result"
    }
   ],
   "source": [
    "sentences"
   ]
  },
  {
   "cell_type": "code",
   "execution_count": 7,
   "id": "888feba5",
   "metadata": {},
   "outputs": [],
   "source": [
    "#tokenizing words\n",
    "words=nltk.word_tokenize(paragragh)"
   ]
  },
  {
   "cell_type": "code",
   "execution_count": 8,
   "id": "9eaa435a",
   "metadata": {},
   "outputs": [
    {
     "data": {
      "text/plain": [
       "['Canon',\n",
       " 'introduced',\n",
       " 'their',\n",
       " 'Inkjet',\n",
       " 'printer',\n",
       " 'using',\n",
       " 'bubble-jet',\n",
       " 'technology',\n",
       " 'in',\n",
       " '1985',\n",
       " ',',\n",
       " 'one',\n",
       " 'year',\n",
       " 'after',\n",
       " 'Hewlett-Packard',\n",
       " '.',\n",
       " 'In',\n",
       " '1987',\n",
       " ',',\n",
       " 'Canon',\n",
       " 'introduced',\n",
       " 'their',\n",
       " 'Canon',\n",
       " 'Electro-Optical',\n",
       " 'System',\n",
       " '(',\n",
       " 'EOS',\n",
       " ')',\n",
       " ',',\n",
       " 'named',\n",
       " 'after',\n",
       " 'the',\n",
       " 'goddess',\n",
       " 'of',\n",
       " 'the',\n",
       " 'dawn',\n",
       " ',',\n",
       " 'along',\n",
       " 'with',\n",
       " 'the',\n",
       " 'Canon',\n",
       " 'EOS',\n",
       " '650',\n",
       " 'autofocus',\n",
       " 'SLR',\n",
       " 'camera',\n",
       " '.',\n",
       " 'Also',\n",
       " 'in',\n",
       " '1987',\n",
       " ',',\n",
       " 'the',\n",
       " 'Canon',\n",
       " 'Foundation',\n",
       " 'was',\n",
       " 'established',\n",
       " '.',\n",
       " 'In',\n",
       " '1988',\n",
       " ',',\n",
       " 'Canon',\n",
       " 'introduced',\n",
       " \"'Kyosei\",\n",
       " 'philosophy',\n",
       " \"'\",\n",
       " '.',\n",
       " '[',\n",
       " '10',\n",
       " ']',\n",
       " 'The',\n",
       " 'EOS',\n",
       " '1',\n",
       " 'Flagship',\n",
       " 'Professional',\n",
       " 'SLR',\n",
       " 'line',\n",
       " 'was',\n",
       " 'launched',\n",
       " 'in',\n",
       " '1989',\n",
       " '.',\n",
       " '[',\n",
       " '11',\n",
       " ']',\n",
       " 'In',\n",
       " 'the',\n",
       " 'same',\n",
       " 'year',\n",
       " 'the',\n",
       " 'EOS',\n",
       " 'RT',\n",
       " ',',\n",
       " 'the',\n",
       " 'world',\n",
       " \"'s\",\n",
       " 'first',\n",
       " 'AF',\n",
       " 'SLR',\n",
       " 'with',\n",
       " 'a',\n",
       " 'fixed',\n",
       " ',',\n",
       " 'semi-transparent',\n",
       " 'pellicle',\n",
       " 'mirror',\n",
       " ',',\n",
       " 'was',\n",
       " 'unveiled',\n",
       " '.']"
      ]
     },
     "execution_count": 8,
     "metadata": {},
     "output_type": "execute_result"
    }
   ],
   "source": [
    "words"
   ]
  },
  {
   "cell_type": "code",
   "execution_count": 10,
   "id": "eeee319d",
   "metadata": {},
   "outputs": [
    {
     "data": {
      "text/plain": [
       "109"
      ]
     },
     "execution_count": 10,
     "metadata": {},
     "output_type": "execute_result"
    }
   ],
   "source": [
    "len(words)"
   ]
  },
  {
   "cell_type": "code",
   "execution_count": null,
   "id": "2ba7d1c9",
   "metadata": {},
   "outputs": [],
   "source": []
  }
 ],
 "metadata": {
  "kernelspec": {
   "display_name": "Python 3 (ipykernel)",
   "language": "python",
   "name": "python3"
  },
  "language_info": {
   "codemirror_mode": {
    "name": "ipython",
    "version": 3
   },
   "file_extension": ".py",
   "mimetype": "text/x-python",
   "name": "python",
   "nbconvert_exporter": "python",
   "pygments_lexer": "ipython3",
   "version": "3.9.12"
  }
 },
 "nbformat": 4,
 "nbformat_minor": 5
}
