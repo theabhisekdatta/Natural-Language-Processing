{
 "cells": [
  {
   "cell_type": "code",
   "execution_count": 1,
   "metadata": {},
   "outputs": [],
   "source": [
    "import nltk\n",
    "from nltk.stem import WordNetLemmatizer\n",
    "from nltk.stem import PorterStemmer\n",
    "from nltk.corpus import stopwords"
   ]
  },
  {
   "cell_type": "code",
   "execution_count": 4,
   "metadata": {},
   "outputs": [],
   "source": [
    "paragraph=\"Actors in theatre, and sometimes in film and television, may be asked to deliver monologues in auditions. Audition monologues demonstrate an actor's ability to prepare a piece and deliver a performance.[13] These pieces are usually limited to two minutes or less and are often paired with a contrasting monologue: comic and dramatic; classical and contemporary. The choice of monologues for an audition[14] often depends on the play or role. \""
   ]
  },
  {
   "cell_type": "code",
   "execution_count": 5,
   "metadata": {},
   "outputs": [
    {
     "data": {
      "text/plain": [
       "4"
      ]
     },
     "execution_count": 5,
     "metadata": {},
     "output_type": "execute_result"
    }
   ],
   "source": [
    "sentences=nltk.sent_tokenize(paragraph)\n",
    "len(sentences)"
   ]
  },
  {
   "cell_type": "code",
   "execution_count": 6,
   "metadata": {},
   "outputs": [],
   "source": [
    "stemmer=PorterStemmer()"
   ]
  },
  {
   "cell_type": "markdown",
   "metadata": {},
   "source": [
    "## Stemmer "
   ]
  },
  {
   "cell_type": "code",
   "execution_count": 8,
   "metadata": {},
   "outputs": [],
   "source": [
    "for i in range(len(sentences)):\n",
    "    words=nltk.word_tokenize(sentences[i])\n",
    "    words=[stemmer.stem(word) for word in words\n",
    "          if word not in stopwords.words(\"english\")]\n",
    "    sentences[i]= \" \".join(words)"
   ]
  },
  {
   "cell_type": "code",
   "execution_count": 9,
   "metadata": {},
   "outputs": [
    {
     "data": {
      "text/plain": [
       "['actor theatr , sometim film televis , may ask deliv monologu audit .',\n",
       " \"audit monologu demonstr actor 's abil prepar piec deliv perform .\",\n",
       " '[ 13 ] these piec usual limit two minut less often pair contrast monologu : comic dramat ; classic contemporari .',\n",
       " 'the choic monologu audit [ 14 ] often depend play role .']"
      ]
     },
     "execution_count": 9,
     "metadata": {},
     "output_type": "execute_result"
    }
   ],
   "source": [
    "sentences"
   ]
  },
  {
   "cell_type": "markdown",
   "metadata": {},
   "source": [
    "## Lemetization "
   ]
  },
  {
   "cell_type": "code",
   "execution_count": 10,
   "metadata": {},
   "outputs": [
    {
     "name": "stdout",
     "output_type": "stream",
     "text": [
      "4\n"
     ]
    }
   ],
   "source": [
    "sentences_lem=nltk.sent_tokenize(paragraph)\n",
    "print(len(sentences_lem))"
   ]
  },
  {
   "cell_type": "code",
   "execution_count": 11,
   "metadata": {},
   "outputs": [],
   "source": [
    "lem=WordNetLemmatizer()"
   ]
  },
  {
   "cell_type": "code",
   "execution_count": 16,
   "metadata": {},
   "outputs": [],
   "source": [
    "for j in range(len(sentences_lem)):\n",
    "    words=nltk.word_tokenize(sentences_lem[j])\n",
    "    words=[lem.lemmatize(word) for word in words \n",
    "          if word not in stopwords.words(\"english\")]\n",
    "    sentences_lem[j]= \" \".join(words)"
   ]
  },
  {
   "cell_type": "code",
   "execution_count": 17,
   "metadata": {},
   "outputs": [
    {
     "data": {
      "text/plain": [
       "['Actors theatre , sometimes film television , may asked deliver monologue audition .',\n",
       " \"Audition monologue demonstrate actor 's ability prepare piece deliver performance .\",\n",
       " '[ 13 ] These piece usually limited two minute le often paired contrasting monologue : comic dramatic ; classical contemporary .',\n",
       " '[ 13 ] These piece usually limited two minute le often paired contrasting monologue : comic dramatic ; classical contemporary .']"
      ]
     },
     "execution_count": 17,
     "metadata": {},
     "output_type": "execute_result"
    }
   ],
   "source": [
    "sentences_lem"
   ]
  },
  {
   "cell_type": "code",
   "execution_count": null,
   "metadata": {},
   "outputs": [],
   "source": []
  }
 ],
 "metadata": {
  "kernelspec": {
   "display_name": "Python 3",
   "language": "python",
   "name": "python3"
  },
  "language_info": {
   "codemirror_mode": {
    "name": "ipython",
    "version": 3
   },
   "file_extension": ".py",
   "mimetype": "text/x-python",
   "name": "python",
   "nbconvert_exporter": "python",
   "pygments_lexer": "ipython3",
   "version": "3.8.5"
  }
 },
 "nbformat": 4,
 "nbformat_minor": 4
}
